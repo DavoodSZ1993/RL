{
  "nbformat": 4,
  "nbformat_minor": 0,
  "metadata": {
    "colab": {
      "name": "09_DNQ.ipynb",
      "provenance": [],
      "authorship_tag": "ABX9TyNVITmiHemK4E+Yocs6CAvs",
      "include_colab_link": true
    },
    "kernelspec": {
      "name": "python3",
      "display_name": "Python 3"
    },
    "language_info": {
      "name": "python"
    }
  },
  "cells": [
    {
      "cell_type": "markdown",
      "metadata": {
        "id": "view-in-github",
        "colab_type": "text"
      },
      "source": [
        "<a href=\"https://colab.research.google.com/github/DavoodSZ1993/RL/blob/main/09_DNQ.ipynb\" target=\"_parent\"><img src=\"https://colab.research.google.com/assets/colab-badge.svg\" alt=\"Open In Colab\"/></a>"
      ]
    },
    {
      "cell_type": "markdown",
      "source": [
        "### Improt Dependencies"
      ],
      "metadata": {
        "id": "ZnAmqT4l-5Nk"
      }
    },
    {
      "cell_type": "code",
      "execution_count": 1,
      "metadata": {
        "id": "QFTAIJg--mHE"
      },
      "outputs": [],
      "source": [
        "import random\n",
        "import gym\n",
        "import numpy as np\n",
        "\n",
        "from collections import deque\n",
        "from keras.models import Sequential\n",
        "from keras.layers import Dense\n",
        "from tensorflow.keras.optimizers import Adam\n",
        "\n",
        "import os"
      ]
    },
    {
      "cell_type": "markdown",
      "source": [
        "### Set Parameters"
      ],
      "metadata": {
        "id": "nIEwNCmLCd0s"
      }
    },
    {
      "cell_type": "code",
      "source": [
        "env = gym.make('CartPole-v0')\n",
        "\n",
        "batch_size = 32\n",
        "n_episodes = 1001\n",
        "\n",
        "output_dir = './cartpole'\n",
        "\n",
        "state_size = env.observation_space.shape[0] # States: Cart Location, Cart Velocity, Pole Location, Pole Angular Velocity\n",
        "action_size = env.action_space.n            # Actions: Left, Right\n",
        "\n",
        "state_size, action_size"
      ],
      "metadata": {
        "colab": {
          "base_uri": "https://localhost:8080/"
        },
        "id": "5Kka5ybQCgce",
        "outputId": "e9bfe3dd-9455-4c38-d4ec-c0872799ddc9"
      },
      "execution_count": 2,
      "outputs": [
        {
          "output_type": "execute_result",
          "data": {
            "text/plain": [
              "(4, 2)"
            ]
          },
          "metadata": {},
          "execution_count": 2
        }
      ]
    },
    {
      "cell_type": "code",
      "source": [
        "if not os.path.exists(output_dir):\n",
        "  os.makedirs(output_dir)"
      ],
      "metadata": {
        "id": "jFBQNWpBFQl3"
      },
      "execution_count": 3,
      "outputs": []
    },
    {
      "cell_type": "markdown",
      "source": [
        "### Defining the Agent"
      ],
      "metadata": {
        "id": "IXOA2txbGhuM"
      }
    },
    {
      "cell_type": "code",
      "source": [
        "class DQNAgent:\n",
        "  def __init__(self, state_size, action_size):\n",
        "    self.state_size = state_size\n",
        "    self.action_size = action_size\n",
        "\n",
        "    self.memory = deque(maxlen=200)\n",
        "\n",
        "    self.gamma = 0.95\n",
        "\n",
        "    self.epsilon = 1.0\n",
        "    self.epsilon_decay = 0.995\n",
        "    self.epsilon_min = 0.01\n",
        "\n",
        "    self.learning_rate = 0.01\n",
        "\n",
        "    self.model = self._build_model()\n",
        "\n",
        "  def _build_model(self):\n",
        "    model = Sequential()\n",
        "\n",
        "    model.add(Dense(24, imput_dim=self.state_size, activation='relu'))\n",
        "    model.add(Dense(24, activation='relu'))\n",
        "    model.add(Dense(self.action_size, activation='linear'))\n",
        "\n",
        "    model.compile(loss='mse', optimizer=Adam(lr=self.learning_rate))\n",
        "\n",
        "    return model\n",
        "\n",
        "  def remember(self, state, action, reward, next_state, done):\n",
        "    self.memory.append((state, action, reward, next_state, done))\n",
        "\n",
        "  def act(self, state):\n",
        "    if np.random.rand() <= self.epsilon:\n",
        "      return random.randrange(self.action_size)\n",
        "    act_values = self.model.predict(state)\n",
        "    return np.argmax(act_values[0])\n",
        "\n",
        "  def replay(self, batch_size):\n",
        "\n",
        "    minibatch = random.sample(self.memory, batch_size)\n",
        "\n",
        "    for state, action, reward, next_state, done in minibatch:\n",
        "      target = reward\n",
        "      if not done:\n",
        "        target = (reward + self.gamma * np.amax(self.model.predict(next_state)[0]))\n",
        "        target_f = self.model.predict(state)\n",
        "        target_f[0][action] = target\n",
        "\n",
        "        self.model.fit(state, target_f, epochs=1, verbose=0)\n",
        "\n",
        "      if self.epsilon > self.epsilon_min:\n",
        "        self.epsilon *= self.epsilon_decay\n",
        "\n",
        "    def load(self, name):\n",
        "      self.model.load_weights(name)\n"
      ],
      "metadata": {
        "id": "T35I4muTGkKS"
      },
      "execution_count": 5,
      "outputs": []
    }
  ]
}