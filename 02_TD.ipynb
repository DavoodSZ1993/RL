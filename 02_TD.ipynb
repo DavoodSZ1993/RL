{
  "nbformat": 4,
  "nbformat_minor": 0,
  "metadata": {
    "colab": {
      "name": "02_TD.ipynb",
      "provenance": [],
      "authorship_tag": "ABX9TyPUqFk7LCGJJY+s2512SW73",
      "include_colab_link": true
    },
    "kernelspec": {
      "name": "python3",
      "display_name": "Python 3"
    },
    "language_info": {
      "name": "python"
    }
  },
  "cells": [
    {
      "cell_type": "markdown",
      "metadata": {
        "id": "view-in-github",
        "colab_type": "text"
      },
      "source": [
        "<a href=\"https://colab.research.google.com/github/DavoodSZ1993/RL/blob/main/02_TD.ipynb\" target=\"_parent\"><img src=\"https://colab.research.google.com/assets/colab-badge.svg\" alt=\"Open In Colab\"/></a>"
      ]
    },
    {
      "cell_type": "code",
      "source": [
        "import numpy as np\n",
        "import gym\n",
        "env = gym.make('FrozenLake-v0')\n",
        "\n",
        "env.action_space, env.observation_space, env.reset(), env.render(), env.step(0), env.step(1), env.render()"
      ],
      "metadata": {
        "colab": {
          "base_uri": "https://localhost:8080/"
        },
        "id": "MDkiNiqhDQh6",
        "outputId": "09b1e544-2a19-4a57-cbc6-da26e1586648"
      },
      "execution_count": 8,
      "outputs": [
        {
          "output_type": "stream",
          "name": "stdout",
          "text": [
            "\n",
            "\u001b[41mS\u001b[0mFFF\n",
            "FHFH\n",
            "FFFH\n",
            "HFFG\n",
            "  (Down)\n",
            "SFFF\n",
            "F\u001b[41mH\u001b[0mFH\n",
            "FFFH\n",
            "HFFG\n"
          ]
        },
        {
          "output_type": "execute_result",
          "data": {
            "text/plain": [
              "(Discrete(4),\n",
              " Discrete(16),\n",
              " 0,\n",
              " None,\n",
              " (4, 0.0, False, {'prob': 0.3333333333333333}),\n",
              " (5, 0.0, True, {'prob': 0.3333333333333333}),\n",
              " None)"
            ]
          },
          "metadata": {},
          "execution_count": 8
        }
      ]
    },
    {
      "cell_type": "code",
      "source": [
        "# generate a random \n",
        "pi = np.random.dirichlet(np.ones(4), size=16)\n",
        "pi.shape, pi, np.ones(4)"
      ],
      "metadata": {
        "id": "Ffkkv9B2P9Vo",
        "outputId": "bcd119d4-754f-4b12-c41a-121e324ac979",
        "colab": {
          "base_uri": "https://localhost:8080/"
        }
      },
      "execution_count": 3,
      "outputs": [
        {
          "output_type": "execute_result",
          "data": {
            "text/plain": [
              "((16, 4), array([[0.31295861, 0.26059107, 0.08770619, 0.33874412],\n",
              "        [0.12980562, 0.54836459, 0.21768956, 0.10414023],\n",
              "        [0.16969485, 0.38363217, 0.16691921, 0.27975377],\n",
              "        [0.14305146, 0.13632209, 0.21245724, 0.50816921],\n",
              "        [0.336306  , 0.05517288, 0.19590363, 0.41261749],\n",
              "        [0.30626445, 0.08082191, 0.52533803, 0.08757561],\n",
              "        [0.03426547, 0.38826134, 0.41962967, 0.15784352],\n",
              "        [0.06396904, 0.42767896, 0.25985702, 0.24849498],\n",
              "        [0.51776038, 0.13093142, 0.25173378, 0.09957442],\n",
              "        [0.59613868, 0.03677518, 0.18535093, 0.18173521],\n",
              "        [0.20688472, 0.31506976, 0.05902384, 0.41902167],\n",
              "        [0.18148426, 0.06990189, 0.0639323 , 0.68468155],\n",
              "        [0.29812519, 0.31225603, 0.34278551, 0.04683327],\n",
              "        [0.12983874, 0.0120901 , 0.59336082, 0.26471035],\n",
              "        [0.45759379, 0.05030124, 0.46802783, 0.02407713],\n",
              "        [0.01200257, 0.10442249, 0.48295856, 0.40061639]]), array([1., 1., 1., 1.]))"
            ]
          },
          "metadata": {},
          "execution_count": 3
        }
      ]
    },
    {
      "cell_type": "code",
      "source": [
        "nb_episodes = 5000\n",
        "alpha = 0.05         # learning rate\n",
        "gamma = 0.9          # Discount Factor"
      ],
      "metadata": {
        "id": "VClFAylaRVdo"
      },
      "execution_count": 4,
      "outputs": []
    },
    {
      "cell_type": "code",
      "source": [
        "v = np.zeros(16)\n",
        "for i in range(nb_episodes):\n",
        "    done = False\n",
        "    observation = env.reset() # puts the environment in its inital states\n",
        "    while not done:\n",
        "        # sample an action from the prob distribution of the observation \n",
        "        action = np.random.choice(4, 1, p=pi[observation]) # Generates a random sample from a given 1-D array\n",
        "        new_observation, reward, done, info = env.step(action[0])\n",
        "        v[observation] = v[observation] + alpha * (reward + gamma * v[new_observation] - v[observation])\n",
        "        observation = new_observation"
      ],
      "metadata": {
        "id": "GHKXpRXPRWqs"
      },
      "execution_count": 5,
      "outputs": []
    },
    {
      "cell_type": "code",
      "source": [
        "v"
      ],
      "metadata": {
        "id": "G3_ViqEzRnHU",
        "outputId": "377e2f46-211c-4535-eaf6-a203e5d9b1c2",
        "colab": {
          "base_uri": "https://localhost:8080/"
        }
      },
      "execution_count": 18,
      "outputs": [
        {
          "output_type": "execute_result",
          "data": {
            "text/plain": [
              "array([0.00187698, 0.00301   , 0.00635074, 0.00224771, 0.0021614 ,\n",
              "       0.        , 0.01827165, 0.        , 0.0072153 , 0.04000664,\n",
              "       0.09671994, 0.        , 0.        , 0.10491209, 0.37339343,\n",
              "       0.        ])"
            ]
          },
          "metadata": {},
          "execution_count": 18
        }
      ]
    }
  ]
}