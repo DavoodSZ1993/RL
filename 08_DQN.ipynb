{
  "nbformat": 4,
  "nbformat_minor": 0,
  "metadata": {
    "colab": {
      "name": "08_DQN.ipynb",
      "provenance": [],
      "authorship_tag": "ABX9TyMpV5myZCB811pxbBk5IYvR",
      "include_colab_link": true
    },
    "kernelspec": {
      "name": "python3",
      "display_name": "Python 3"
    },
    "language_info": {
      "name": "python"
    }
  },
  "cells": [
    {
      "cell_type": "markdown",
      "metadata": {
        "id": "view-in-github",
        "colab_type": "text"
      },
      "source": [
        "<a href=\"https://colab.research.google.com/github/DavoodSZ1993/RL/blob/main/08_DQN.ipynb\" target=\"_parent\"><img src=\"https://colab.research.google.com/assets/colab-badge.svg\" alt=\"Open In Colab\"/></a>"
      ]
    },
    {
      "cell_type": "code",
      "execution_count": 1,
      "metadata": {
        "id": "DxP7-cAM5pkJ"
      },
      "outputs": [],
      "source": [
        "import gym\n",
        "import math                                  # Provides access to the mathematical functions\n",
        "import random                                # Implements pseudo-random number generators for various distributions\n",
        "import numpy as np\n",
        "import matplotlib\n",
        "import matplotlib.pyplot as plt\n",
        "from collections import namedtuple, deque\n",
        "from itertools import count                 # Make an iterator that returns evenly spaced values starting with number start\n",
        "from PIL import Image                       # Provides a number of factory functions including functions to load images from files\n",
        "\n",
        "import torch\n",
        "import torch.nn as nn\n",
        "import torch.optim as optim\n",
        "import torch.nn.functional as F\n",
        "import torchvision.transforms as T"
      ]
    },
    {
      "cell_type": "markdown",
      "source": [
        "## `collections.namedtuple()` Factory Function for Tuples with Named Fields.\n",
        "Named tuples assign meaning to each position in a tuple and allow for more readable, self-documenting code. \n",
        "\n",
        "```\n",
        ">>> # Basic example\n",
        ">>> Point = namedtuple('Point', ['x', 'y'])\n",
        ">>> p = Point(11, y=22)     # instantiate with positional or keyword arguments\n",
        ">>> p[0] + p[1]             # indexable like the plain tuple (11, 22)\n",
        "33\n",
        ">>> x, y = p                # unpack like a regular tuple\n",
        ">>> x, y\n",
        "(11, 22)\n",
        ">>> p.x + p.y               # fields also accessible by name\n",
        "33\n",
        ">>> p                       # readable __repr__ with a name=value style\n",
        "Point(x=11, y=22)\n",
        "```"
      ],
      "metadata": {
        "id": "ChS83Gf-7v1b"
      }
    },
    {
      "cell_type": "markdown",
      "source": [
        "## `collections.deque()`:\n",
        "Returns a new deque object inialized left-to-right (append()) with data from iterable. if iterable is not specified, the new deque is empty. \n",
        "\n",
        "```\n",
        ">>> from collections import deque\n",
        ">>> d = deque('ghi')                 # make a new deque with three items\n",
        ">>> for elem in d:                   # iterate over the deque's elements\n",
        "...     print(elem.upper())\n",
        "G\n",
        "H\n",
        "I\n",
        "```"
      ],
      "metadata": {
        "id": "zBFyldcv8uKC"
      }
    },
    {
      "cell_type": "code",
      "source": [
        "env = gym.make('CartPole-v0').unwrapped\n",
        "\n",
        "# set up matplotlib\n",
        "is_ipython = 'inline' in matplotlib.get_backend()\n",
        "if is_ipython:\n",
        "  from IPython import display      # Public API for display tools in IPython\n",
        "\n",
        "plt.ion()\n",
        "\n",
        "# if gpu is to be used\n",
        "device = torch.device(\"cuda\" if torch.cuda.is_available() else \"cpu\")"
      ],
      "metadata": {
        "id": "MVl3-t2z-hsi"
      },
      "execution_count": 2,
      "outputs": []
    },
    {
      "cell_type": "markdown",
      "source": [
        "## `gym.make().unwrapped`:\n",
        "\n",
        "Open AI Gym offers many different environments. Each of them with their own set of parameters and methods. Nevertheless they generally are wrapped by a single Class (like an interface on real OOPLs) called `Env.` This class exposes the common most essential methods of any environment, like `step`, `reset` and `seed`. Having this “interface” class is great, because it allows your code to be environment agnostic. It is also makes things easier if you want to test a single agent on different environments.\n",
        "\n",
        "However, if you want to access the behind-the.scenes dynamics of a specific environment, then you use the `unwrapped` property."
      ],
      "metadata": {
        "id": "z4p58p34B4yB"
      }
    },
    {
      "cell_type": "markdown",
      "source": [
        "## `matplotlib.pyplot.ion()`:\n",
        "This method is used to turn on interactive mode. "
      ],
      "metadata": {
        "id": "4PSE6ZDM1C6T"
      }
    },
    {
      "cell_type": "code",
      "source": [
        "Transition = namedtuple('Transition',('state', 'action','next_state', 'reward'))\n",
        "\n",
        "class Replaymemory(object):\n",
        "  def __init__(self, capacity):\n",
        "    self.memory = deque([], maxlen=capacity)\n",
        "\n",
        "  def push(self, *args):\n",
        "    \"\"\"Save a Transition\"\"\"\n",
        "    self.memory.append(Transition(*args))\n",
        "\n",
        "  def sample(self, batch_size):\n",
        "    return random.sample(self.memory, batch_size)\n",
        "\n",
        "  def __len__(self):\n",
        "    return len(self.memory)"
      ],
      "metadata": {
        "id": "JREU4UnYw9m0"
      },
      "execution_count": 3,
      "outputs": []
    },
    {
      "cell_type": "code",
      "source": [
        "class DQN(nn.Module):\n",
        "  def __init__(self, h, w, outputs):\n",
        "    super(DQN, self).__init__()\n",
        "    self.conv1 = nn.Conv2d(3, 16, kernel_size=5, stride=2)\n",
        "    self.bn1 = nn.BatchNorm2d(16)\n",
        "    self.conv2 = nn.Conv2d(16, 32, kernel_size=5, stride=2)\n",
        "    self.bn2 = nn.BatchNorm2d(32)\n",
        "    self.conv3 = nn.Conv2d(32, 32, kernel_size=5, stride=2)\n",
        "    self.bn3 = nn.BatchNorm2d(32)\n",
        "\n",
        "    def conv2d_size_out(size, kernel_size=5, stride=2):\n",
        "      return (size - (kernel_size - 1) -1) // stride +1\n",
        "\n",
        "    convw = conv2d_size_out(conv2d_size_out(conv2d_size_out(w)))\n",
        "    convh = conv2d_size_out(conv2d_size_out(conv2d_size_out(h)))\n",
        "    linear_input_size = convw * convh * 32\n",
        "\n",
        "    self.head = nn.Linear(linear_input_size, outputs)\n",
        "\n",
        "  def forward(self, x):\n",
        "    x = x.to(device)\n",
        "    x = F.relu(self.bn1(self.conv1(x)))\n",
        "    x = F.relu(self.bn2(self.conv2(x)))\n",
        "    x = F.relu(self.bn3(self.conv3(x)))\n",
        "    return self.head(x.view(x.size(0), -1))\n",
        "\n"
      ],
      "metadata": {
        "id": "UBXPph71VmWh"
      },
      "execution_count": 4,
      "outputs": []
    }
  ]
}