{
  "nbformat": 4,
  "nbformat_minor": 0,
  "metadata": {
    "colab": {
      "name": "08_DQN.ipynb",
      "provenance": [],
      "authorship_tag": "ABX9TyOZ6wpN5YdYJR96OmTPN/Xz",
      "include_colab_link": true
    },
    "kernelspec": {
      "name": "python3",
      "display_name": "Python 3"
    },
    "language_info": {
      "name": "python"
    }
  },
  "cells": [
    {
      "cell_type": "markdown",
      "metadata": {
        "id": "view-in-github",
        "colab_type": "text"
      },
      "source": [
        "<a href=\"https://colab.research.google.com/github/DavoodSZ1993/RL/blob/main/08_DQN.ipynb\" target=\"_parent\"><img src=\"https://colab.research.google.com/assets/colab-badge.svg\" alt=\"Open In Colab\"/></a>"
      ]
    },
    {
      "cell_type": "code",
      "execution_count": 2,
      "metadata": {
        "id": "DxP7-cAM5pkJ"
      },
      "outputs": [],
      "source": [
        "import gym\n",
        "import math                                  # Provides access to the mathematical functions\n",
        "import random                                # Implements pseudo-random number generators for various distributions\n",
        "import numpy as np\n",
        "import matplotlib\n",
        "import matplotlib.pyplot as plt\n",
        "from collections import namedtuple, deque\n",
        "from itertools import count                 # Make an iterator that returns evenly spaced values starting with number start\n",
        "from PIL import Image                       # Provides a number of factory functions including functions to load images from files\n",
        "\n",
        "import torch\n",
        "import torch.nn as nn\n",
        "import torch.optim as optim\n",
        "import torch.nn.functional as F\n",
        "import torchvision.transforms as T"
      ]
    },
    {
      "cell_type": "markdown",
      "source": [
        "## `collections.namedtuple()` Factory Function for Tuples with Named Fields.\n",
        "Named tuples assign meaning to each position in a tuple and allow for more readable, self-documenting code. \n",
        "\n",
        "```\n",
        ">>> # Basic example\n",
        ">>> Point = namedtuple('Point', ['x', 'y'])\n",
        ">>> p = Point(11, y=22)     # instantiate with positional or keyword arguments\n",
        ">>> p[0] + p[1]             # indexable like the plain tuple (11, 22)\n",
        "33\n",
        ">>> x, y = p                # unpack like a regular tuple\n",
        ">>> x, y\n",
        "(11, 22)\n",
        ">>> p.x + p.y               # fields also accessible by name\n",
        "33\n",
        ">>> p                       # readable __repr__ with a name=value style\n",
        "Point(x=11, y=22)\n",
        "```"
      ],
      "metadata": {
        "id": "ChS83Gf-7v1b"
      }
    },
    {
      "cell_type": "markdown",
      "source": [
        "## `collections.deque()`:\n",
        "Returns a new deque object inialized left-to-right (append()) with data from iterable. if iterable is not specified, the new deque is empty. \n",
        "\n",
        "```\n",
        ">>> from collections import deque\n",
        ">>> d = deque('ghi')                 # make a new deque with three items\n",
        ">>> for elem in d:                   # iterate over the deque's elements\n",
        "...     print(elem.upper())\n",
        "G\n",
        "H\n",
        "I\n",
        "```"
      ],
      "metadata": {
        "id": "zBFyldcv8uKC"
      }
    },
    {
      "cell_type": "code",
      "source": [
        ""
      ],
      "metadata": {
        "id": "MVl3-t2z-hsi"
      },
      "execution_count": null,
      "outputs": []
    }
  ]
}