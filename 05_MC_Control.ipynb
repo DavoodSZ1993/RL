{
  "nbformat": 4,
  "nbformat_minor": 0,
  "metadata": {
    "colab": {
      "name": "05_MC_Control.ipynb",
      "provenance": [],
      "collapsed_sections": [],
      "authorship_tag": "ABX9TyOz/4BW5R7lsS0vG4sKsBwy",
      "include_colab_link": true
    },
    "kernelspec": {
      "name": "python3",
      "display_name": "Python 3"
    },
    "language_info": {
      "name": "python"
    }
  },
  "cells": [
    {
      "cell_type": "markdown",
      "metadata": {
        "id": "view-in-github",
        "colab_type": "text"
      },
      "source": [
        "<a href=\"https://colab.research.google.com/github/DavoodSZ1993/RL/blob/main/05_MC_Control.ipynb\" target=\"_parent\"><img src=\"https://colab.research.google.com/assets/colab-badge.svg\" alt=\"Open In Colab\"/></a>"
      ]
    },
    {
      "cell_type": "code",
      "execution_count": 58,
      "metadata": {
        "id": "btK-qDqHs6uK"
      },
      "outputs": [],
      "source": [
        "import numpy as np\n",
        "import gym\n",
        "\n",
        "env = gym.make('Blackjack-v0')"
      ]
    },
    {
      "cell_type": "code",
      "source": [
        "state_space_size = (33, 12, 2)\n",
        "policy = np.zeros(state_space_size, dtype=int)"
      ],
      "metadata": {
        "id": "nKWH9-oZtgTb"
      },
      "execution_count": 59,
      "outputs": []
    },
    {
      "cell_type": "code",
      "source": [
        "def observation_clean(observation):\n",
        "  return (observation[0], observation[1], int(observation[2]))"
      ],
      "metadata": {
        "id": "Fl2fFxXLt1cC"
      },
      "execution_count": 60,
      "outputs": []
    },
    {
      "cell_type": "markdown",
      "source": [
        "### Side Note: Binomial Probability Distribution:\n",
        "\n",
        "* $X \\sim Binomial(n,p)$ (where $0\\le p\\le1$): the number of heads in $n$ independent flips of a coin with heads probability $p$.\n",
        "\n",
        "$$\n",
        "p(x) = \\begin{bmatrix} n \\\\ x\\end{bmatrix}p^x(1-p)^{n-x}\n",
        "$$\n",
        "\n",
        "* **Probability Mass Functions (PMFs)**:\n",
        "When a random variable $X$ takes on a finite set of possible values (i.e., $X$ is a discrete random variable), a simpler way to represent the probability measure associated with a random variable is to directly specifiy the probability of each value that the random variable can assume. In particular, a _probability mass function (PMF)_ is a function $p_x: \\Omega →R$ such that:\n",
        "\n",
        "$$\n",
        "p_X(x)=P(X=x)\n",
        "$$"
      ],
      "metadata": {
        "id": "FqZma-uXyTaU"
      }
    },
    {
      "cell_type": "code",
      "source": [
        "def run_episode_exploring_start(policy, env=env):\n",
        "  steps = []\n",
        "  observation = observation_clean(env.reset())\n",
        "  done = False\n",
        "  steps.append(((None, None) + (observation, 0))) # State, Action, Next State, Reward\n",
        "  start = True\n",
        "\n",
        "  while not done:\n",
        "    if start:\n",
        "      action = np.random.binomial(n=1, p=0.5)  # returns a sample (n=1) either zero or one based on binominal distribution(p=0.5)\n",
        "      start = False\n",
        "    else:\n",
        "      action = policy[observation]\n",
        "\n",
        "    observation_action = (observation, action)\n",
        "    observation, reward, done, info = env.step(action)\n",
        "    observation = observation_clean(observation)\n",
        "    steps.append(observation_action + (observation, int(reward)))\n",
        "  return steps"
      ],
      "metadata": {
        "id": "x1EXbYLPuIds"
      },
      "execution_count": 70,
      "outputs": []
    },
    {
      "cell_type": "code",
      "source": [
        "size = list(state_space_size) + [2]\n",
        "Q = np.zeros(size)\n",
        "Q.shape"
      ],
      "metadata": {
        "id": "geq-i_UXvnjb",
        "colab": {
          "base_uri": "https://localhost:8080/"
        },
        "outputId": "cc1326e9-bdfe-499d-eb72-18ae934a31b5"
      },
      "execution_count": 71,
      "outputs": [
        {
          "output_type": "execute_result",
          "data": {
            "text/plain": [
              "(33, 12, 2, 2)"
            ]
          },
          "metadata": {},
          "execution_count": 71
        }
      ]
    },
    {
      "cell_type": "markdown",
      "source": [
        "### Side Note: `defaultdict` in Python\n",
        "Defaultdict is a container like dictionaries present in the module collections. Defaultdict is a sub-class of the dictionary class that returns a dictionary-like object. The functionality of both dictionaries and defaultdict are almost same except for the fact that defaultdict never raises a KeyError. It provides a default value for the key that does not exists."
      ],
      "metadata": {
        "id": "PZJ127Bg9BLQ"
      }
    },
    {
      "cell_type": "code",
      "source": [
        "from collections import defaultdict\n",
        "returns = defaultdict(list)\n",
        "print(returns)"
      ],
      "metadata": {
        "id": "3tsLIkDW4I-A",
        "colab": {
          "base_uri": "https://localhost:8080/"
        },
        "outputId": "d46c928e-9750-4933-d968-712c9988af60"
      },
      "execution_count": 73,
      "outputs": [
        {
          "output_type": "stream",
          "name": "stdout",
          "text": [
            "defaultdict(<class 'list'>, {})\n"
          ]
        }
      ]
    },
    {
      "cell_type": "code",
      "source": [
        "nb_of_episodes = 5000\n",
        "gamma = 0.99\n",
        "\n",
        "\n",
        "# Greedy Algorithm\n",
        "def monte_carlo_optimal_policy(nb_of_episodes,\n",
        "                               policy = np.random.binomial(n=1, p=0.5, size=state_space_size),\n",
        "                               run_episode = run_episode_exploring_start):\n",
        "  for i in range(nb_of_episodes):\n",
        "    # (a) generate an episode uring exploring starts and pi (policy)\n",
        "    observations_reward = run_episode(policy)\n",
        "\n",
        "    G = 0. # Current return\n",
        "    # use a map for the first visit condition:\n",
        "    o_a = {} # map from states to (action, return)-Tuple\n",
        "    for o0, a, o, r in reversed(observations_reward):\n",
        "      G = r + gamma * G   # Monte-Carlo method, starts from last state and comes to the first state of the episode\n",
        "      o_a[o0] = a, G      # Dictionary: Key = state, Value = (action, state value)\n",
        "\n",
        "    # (b) for each pair (s,a) appearing in the episode\n",
        "    for o, (a, G) in o_a.items():\n",
        "      if o is not None:\n",
        "        returns[(o, a)].append(G)\n",
        "        re_mean = np.array(returns[(o, a)]).mean()  # Experimental mean for each state\n",
        "        Q[(o) + (a,)] = re_mean                     # reward regarded to each state-action pair\n",
        "\n",
        "        # for each s in the episode: optimize policy\n",
        "        policy[o] = np.argmax(Q[o])   # argmax over all actions, picks the action with highest value\n",
        "  return policy\n",
        "\n",
        "policy = monte_carlo_optimal_policy(nb_of_episodes)\n",
        "policy.shape"
      ],
      "metadata": {
        "id": "6KXduMbS9r2n",
        "colab": {
          "base_uri": "https://localhost:8080/"
        },
        "outputId": "68ead2b7-d41e-4ebc-8bd0-3629f7883518"
      },
      "execution_count": 91,
      "outputs": [
        {
          "output_type": "execute_result",
          "data": {
            "text/plain": [
              "(33, 12, 2)"
            ]
          },
          "metadata": {},
          "execution_count": 91
        }
      ]
    },
    {
      "cell_type": "code",
      "source": [
        "Q[5, 8, 0, 1]"
      ],
      "metadata": {
        "id": "PI7tj_wmCGeG",
        "colab": {
          "base_uri": "https://localhost:8080/"
        },
        "outputId": "790c5359-ad37-4b6b-b13d-fd0eeb495a3c"
      },
      "execution_count": 92,
      "outputs": [
        {
          "output_type": "execute_result",
          "data": {
            "text/plain": [
              "-0.16080289681685395"
            ]
          },
          "metadata": {},
          "execution_count": 92
        }
      ]
    },
    {
      "cell_type": "code",
      "source": [
        "policy[5, 5, 0]"
      ],
      "metadata": {
        "colab": {
          "base_uri": "https://localhost:8080/"
        },
        "id": "_bHGWnn-RnNE",
        "outputId": "c04f7602-7cf9-4b5e-ef9a-82daad17d23c"
      },
      "execution_count": 93,
      "outputs": [
        {
          "output_type": "execute_result",
          "data": {
            "text/plain": [
              "1"
            ]
          },
          "metadata": {},
          "execution_count": 93
        }
      ]
    },
    {
      "cell_type": "code",
      "source": [
        "import scipy.ndimage               # This package contains various functions for multidimensional image processing\n",
        "import matplotlib.pyplot as plt\n",
        "%matplotlib inline\n",
        "\n",
        "\n",
        "def plot_policy_useable_ace(policy):\n",
        "  B = np.arange(4-0.5, 22-0.5, 0.2)\n",
        "  A = np.arange(1-0.5, 11-0.5, 0.2)\n",
        "  A, B = np.meshgrid(A, B)\n",
        "\n",
        "  Po = scipy.ndimage.zoom(policy[4:22, 1:11, 0], 5)   # Zoom an array for better resolution in illustration\n",
        "  levels = range(-1, 2)\n",
        "  plt.figure(figsize=(7,6))\n",
        "  CS = plt.contourf(A, B, Po, levels)\n",
        "  cbar = plt.colorbar(CS)\n",
        "  cbar.ax.set_ylabel('actions')\n",
        "  #plt.clabel(CS, inline=1, fontsize=10)\n",
        "  plt.title('policy for no useable ace')\n",
        "  plt.xlabel(\"dealers showing\")\n",
        "  plt.ylabel(\"players sum\")\n",
        "  _ = plt.xticks(range(1,11))\n",
        "  _ = plt.yticks(range(4, 22))\n",
        "\n",
        "plot_policy_useable_ace(policy)"
      ],
      "metadata": {
        "colab": {
          "base_uri": "https://localhost:8080/",
          "height": 404
        },
        "id": "vke-3NKnRq95",
        "outputId": "03465ae4-0242-47a6-a829-1b91e7a64612"
      },
      "execution_count": 94,
      "outputs": [
        {
          "output_type": "display_data",
          "data": {
            "text/plain": [
              "<Figure size 504x432 with 2 Axes>"
            ],
            "image/png": "[encoded data removed]"
          },
          "metadata": {
            "needs_background": "light"
          }
        }
      ]
    },
    {
      "cell_type": "code",
      "source": [
        "def plot_policy_no_useable_ace(policy):\n",
        "  B = np.arange(12-0.5, 22-0.5, 0.2)\n",
        "  A = np.arange(1-0.5, 11-0.5, 0.2)\n",
        "  A, B = np.meshgrid(A, B)\n",
        "\n",
        "  Po = scipy.ndimage.zoom(policy[12:22, 1:11, 1], 5, mode='nearest')   # Zoom an array for better resolution in illustration\n",
        "  levels = range(-1, 2)\n",
        "  plt.figure(figsize=(7,6))\n",
        "  CS = plt.contourf(A, B, Po, levels)\n",
        "  cbar = plt.colorbar(CS)\n",
        "  cbar.ax.set_ylabel('actions')\n",
        "  #plt.clabel(CS, inline=1, fontsize=10)\n",
        "  plt.title('policy for useable ace')\n",
        "  plt.xlabel(\"dealers showing\")\n",
        "  plt.ylabel(\"players sum\")\n",
        "  _ = plt.xticks(range(1,11))\n",
        "  _ = plt.yticks(range(12, 22))\n",
        "\n",
        "plot_policy_no_useable_ace(policy)"
      ],
      "metadata": {
        "colab": {
          "base_uri": "https://localhost:8080/",
          "height": 404
        },
        "id": "wkPFSd6nZqlV",
        "outputId": "ca627ba6-eb3d-4693-890d-322b98102ee2"
      },
      "execution_count": 95,
      "outputs": [
        {
          "output_type": "display_data",
          "data": {
            "text/plain": [
              "<Figure size 504x432 with 2 Axes>"
            ],
            "image/png": "[encoded data removed]"
          },
          "metadata": {
            "needs_background": "light"
          }
        }
      ]
    },
    {
      "cell_type": "markdown",
      "source": [
        "### Monte-Carlo Control: $ϵ$-greedy:"
      ],
      "metadata": {
        "id": "kHNCrqkOfsUS"
      }
    },
    {
      "cell_type": "code",
      "source": [
        "def run_episode_epsilon_greedy(policy, epsilon=0.05, env=env):\n",
        "  steps = []\n",
        "  observation = observation_clean(env.reset())\n",
        "  done = False\n",
        "  steps.append(((None, None) + (observation, 0)))\n",
        "\n",
        "  while not done:\n",
        "    if np.random.rand() > epsilon:\n",
        "      action = policy[observation]\n",
        "    else:\n",
        "      action = np.random.binomial(n=1, p=0.5)\n",
        "\n",
        "    observation_action = (observation, action)\n",
        "    observation, reward, done, info = env.step(action)\n",
        "    observation = observation_clean(observation)\n",
        "    steps.append(observation_action + (observation, int(reward)))\n",
        "  return steps"
      ],
      "metadata": {
        "id": "wMXu9ymKfm2H"
      },
      "execution_count": 96,
      "outputs": []
    },
    {
      "cell_type": "code",
      "source": [
        "policy = monte_carlo_optimal_policy(nb_of_episodes, run_episode=run_episode_epsilon_greedy)"
      ],
      "metadata": {
        "id": "m4qhY2q-hY5U"
      },
      "execution_count": 97,
      "outputs": []
    },
    {
      "cell_type": "code",
      "source": [
        "plot_policy_useable_ace(policy)"
      ],
      "metadata": {
        "colab": {
          "base_uri": "https://localhost:8080/",
          "height": 404
        },
        "id": "5WtKJM-ekCbE",
        "outputId": "34f44f96-394b-489d-db85-ca7a9bf29baa"
      },
      "execution_count": 98,
      "outputs": [
        {
          "output_type": "display_data",
          "data": {
            "text/plain": [
              "<Figure size 504x432 with 2 Axes>"
            ],
            "image/png": "[encoded data removed]"
          },
          "metadata": {
            "needs_background": "light"
          }
        }
      ]
    },
    {
      "cell_type": "code",
      "source": [
        "plot_policy_no_useable_ace(policy)"
      ],
      "metadata": {
        "colab": {
          "base_uri": "https://localhost:8080/",
          "height": 404
        },
        "id": "b3QWQG87kdN5",
        "outputId": "9f22e84f-bdb9-4b40-9911-4384e557c499"
      },
      "execution_count": 99,
      "outputs": [
        {
          "output_type": "display_data",
          "data": {
            "text/plain": [
              "<Figure size 504x432 with 2 Axes>"
            ],
            "image/png": "[encoded data removed]"
          },
          "metadata": {
            "needs_background": "light"
          }
        }
      ]
    }
  ]
}