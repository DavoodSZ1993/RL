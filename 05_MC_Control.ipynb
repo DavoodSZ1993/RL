{
  "nbformat": 4,
  "nbformat_minor": 0,
  "metadata": {
    "colab": {
      "name": "05_MC_Control.ipynb",
      "provenance": [],
      "authorship_tag": "ABX9TyM5YKIRLMAlKsshXeri0tb9",
      "include_colab_link": true
    },
    "kernelspec": {
      "name": "python3",
      "display_name": "Python 3"
    },
    "language_info": {
      "name": "python"
    }
  },
  "cells": [
    {
      "cell_type": "markdown",
      "metadata": {
        "id": "view-in-github",
        "colab_type": "text"
      },
      "source": [
        "<a href=\"https://colab.research.google.com/github/DavoodSZ1993/RL/blob/main/05_MC_Control.ipynb\" target=\"_parent\"><img src=\"https://colab.research.google.com/assets/colab-badge.svg\" alt=\"Open In Colab\"/></a>"
      ]
    },
    {
      "cell_type": "code",
      "execution_count": 1,
      "metadata": {
        "id": "btK-qDqHs6uK"
      },
      "outputs": [],
      "source": [
        "import numpy as np\n",
        "import gym\n",
        "\n",
        "env = gym.make('Blackjack-v0')"
      ]
    },
    {
      "cell_type": "code",
      "source": [
        "state_space_size = (33, 12, 2)\n",
        "policy = np.zeros(state_space_size, dtype=int)"
      ],
      "metadata": {
        "id": "nKWH9-oZtgTb"
      },
      "execution_count": 2,
      "outputs": []
    },
    {
      "cell_type": "code",
      "source": [
        "def observation_clean(observation):\n",
        "  return (observation[0], observation[1], int(observation[2]))"
      ],
      "metadata": {
        "id": "Fl2fFxXLt1cC"
      },
      "execution_count": 3,
      "outputs": []
    },
    {
      "cell_type": "code",
      "source": [
        "def run_episode_exploring_start(policy, env=env):\n",
        "  steps = []\n",
        "  observation = observation_clean(env.reset())\n",
        "  done = False\n",
        "  steps.append(((None, None) + (observation, 0))) # State, Action, Next State, Reward\n",
        "  start = True\n",
        "\n",
        "  while not done:\n",
        "    if start:\n",
        "      action = np.random.binomial(n=1, p=0.5)\n",
        "      start = False\n",
        "    else:\n",
        "      action = policy[observation]\n",
        "\n",
        "    observation_action = (observation, action)\n",
        "    observation, reward, done, info = env.step(action)\n",
        "    observation = observation_clean(observation)\n",
        "    steps.append(observation_action + (observation, int(reward)))\n",
        "  return steps"
      ],
      "metadata": {
        "id": "x1EXbYLPuIds"
      },
      "execution_count": 4,
      "outputs": []
    },
    {
      "cell_type": "code",
      "source": [
        "observation = observation_clean(env.reset())\n",
        "action = np.random.binomial(n=1, p=0.5)\n",
        "action"
      ],
      "metadata": {
        "colab": {
          "base_uri": "https://localhost:8080/"
        },
        "id": "geq-i_UXvnjb",
        "outputId": "969d5689-0919-4631-db6b-46e71c2a5543"
      },
      "execution_count": 10,
      "outputs": [
        {
          "output_type": "execute_result",
          "data": {
            "text/plain": [
              "0"
            ]
          },
          "metadata": {},
          "execution_count": 10
        }
      ]
    }
  ]
}