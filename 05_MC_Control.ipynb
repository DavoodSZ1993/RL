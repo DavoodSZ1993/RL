{
  "nbformat": 4,
  "nbformat_minor": 0,
  "metadata": {
    "colab": {
      "name": "05_MC_Control.ipynb",
      "provenance": [],
      "authorship_tag": "ABX9TyPLtahLfBSmglKfB+YOpDtX",
      "include_colab_link": true
    },
    "kernelspec": {
      "name": "python3",
      "display_name": "Python 3"
    },
    "language_info": {
      "name": "python"
    }
  },
  "cells": [
    {
      "cell_type": "markdown",
      "metadata": {
        "id": "view-in-github",
        "colab_type": "text"
      },
      "source": [
        "<a href=\"https://colab.research.google.com/github/DavoodSZ1993/RL/blob/main/05_MC_Control.ipynb\" target=\"_parent\"><img src=\"https://colab.research.google.com/assets/colab-badge.svg\" alt=\"Open In Colab\"/></a>"
      ]
    },
    {
      "cell_type": "code",
      "execution_count": 1,
      "metadata": {
        "id": "btK-qDqHs6uK"
      },
      "outputs": [],
      "source": [
        "import numpy as np\n",
        "import gym\n",
        "\n",
        "env = gym.make('Blackjack-v0')"
      ]
    },
    {
      "cell_type": "code",
      "source": [
        "state_space_size = (33, 12, 2)\n",
        "policy = np.zeros(state_space_size, dtype=int)"
      ],
      "metadata": {
        "id": "nKWH9-oZtgTb"
      },
      "execution_count": 2,
      "outputs": []
    },
    {
      "cell_type": "code",
      "source": [
        "def observation_clean(observation):\n",
        "  return (observation[0], observation[1], int(observation[2]))"
      ],
      "metadata": {
        "id": "Fl2fFxXLt1cC"
      },
      "execution_count": 3,
      "outputs": []
    },
    {
      "cell_type": "markdown",
      "source": [
        "### Side Note: Binomial Probability Distribution:\n",
        "\n",
        "* $X \\sim Binomial(n,p)$ (where $0\\le p\\le1$): the number of heads in $n$ independent flips of a coin with heads probability $p$.\n",
        "\n",
        "$$\n",
        "p(x) = \\begin{bmatrix} n \\\\ x\\end{bmatrix}p^x(1-p)^(n-x)\n",
        "$$\n",
        "\n",
        "* **Probability Mass Functions (PMFs)**:\n",
        "When a random variable $X$ takes on a finite set of possible values (i.e., $X$ is a discrete random variable), a simpler way to represent the probability measure associated with a random variable is to directly specifiy the probability of each value that the random variable can assume. In particular, a _probability mass function (PMF)_ is a function $p_x: \\Omega →R$ such that:\n",
        "\n",
        "$$\n",
        "p_X(x)=P(X=x)\n",
        "$$"
      ],
      "metadata": {
        "id": "FqZma-uXyTaU"
      }
    },
    {
      "cell_type": "code",
      "source": [
        "def run_episode_exploring_start(policy, env=env):\n",
        "  steps = []\n",
        "  observation = observation_clean(env.reset())\n",
        "  done = False\n",
        "  steps.append(((None, None) + (observation, 0))) # State, Action, Next State, Reward\n",
        "  start = True\n",
        "\n",
        "  while not done:\n",
        "    if start:\n",
        "      action = np.random.binomial(n=1, p=0.5)  # returns a sample (n=1) either zero or one based on binominal distribution(p=0.5)\n",
        "      start = False\n",
        "    else:\n",
        "      action = policy[observation]\n",
        "\n",
        "    observation_action = (observation, action)\n",
        "    observation, reward, done, info = env.step(action)\n",
        "    observation = observation_clean(observation)\n",
        "    steps.append(observation_action + (observation, int(reward)))\n",
        "  return steps"
      ],
      "metadata": {
        "id": "x1EXbYLPuIds"
      },
      "execution_count": 4,
      "outputs": []
    },
    {
      "cell_type": "code",
      "source": [
        "size = list(state_space_size) + [2]\n",
        "Q = np.zeros(size)\n",
        "Q.shape"
      ],
      "metadata": {
        "colab": {
          "base_uri": "https://localhost:8080/"
        },
        "id": "geq-i_UXvnjb",
        "outputId": "38214b94-55aa-4132-f908-da901df929a7"
      },
      "execution_count": 12,
      "outputs": [
        {
          "output_type": "execute_result",
          "data": {
            "text/plain": [
              "(33, 12, 2, 2)"
            ]
          },
          "metadata": {},
          "execution_count": 12
        }
      ]
    },
    {
      "cell_type": "code",
      "source": [
        "from collections import defaultdict\n",
        "returns = defaultdict(list)\n",
        "returns"
      ],
      "metadata": {
        "colab": {
          "base_uri": "https://localhost:8080/"
        },
        "id": "3tsLIkDW4I-A",
        "outputId": "f42d8932-bc7a-4f56-bb13-8f9c9cec069c"
      },
      "execution_count": 14,
      "outputs": [
        {
          "output_type": "execute_result",
          "data": {
            "text/plain": [
              "defaultdict(list, {})"
            ]
          },
          "metadata": {},
          "execution_count": 14
        }
      ]
    }
  ]
}