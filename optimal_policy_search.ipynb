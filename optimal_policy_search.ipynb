{
  "nbformat": 4,
  "nbformat_minor": 0,
  "metadata": {
    "colab": {
      "name": "optimal_policy_search.ipynb",
      "provenance": [],
      "authorship_tag": "ABX9TyN66+DeDx8Ro0T2PMM5fqSk",
      "include_colab_link": true
    },
    "kernelspec": {
      "name": "python3",
      "display_name": "Python 3"
    },
    "language_info": {
      "name": "python"
    }
  },
  "cells": [
    {
      "cell_type": "markdown",
      "metadata": {
        "id": "view-in-github",
        "colab_type": "text"
      },
      "source": [
        "<a href=\"https://colab.research.google.com/github/DavoodSZ1993/RL/blob/main/optimal_policy_search.ipynb\" target=\"_parent\"><img src=\"https://colab.research.google.com/assets/colab-badge.svg\" alt=\"Open In Colab\"/></a>"
      ]
    },
    {
      "cell_type": "code",
      "execution_count": 3,
      "metadata": {
        "id": "ejoc3WD8dlzY"
      },
      "outputs": [],
      "source": [
        "# An MDP Implementation of Optimal Policy Search\n",
        "\n",
        "import numpy as np\n",
        "\n",
        "nan = np.nan\n",
        "\n",
        "actions = [[0, 1, 2], [0, 2], [0]] # The action space (s,a) is a 2D array. Actions\n",
        "\n",
        "\n",
        "P = np.array([[[1.0, 0.0, 0.0], [0.2, 0.8, 0.0], [0.5, 0.5, 0.0]], \n",
        "              [[0.8, 0.2, 0.0], [nan, nan, nan], [0.0, 0.0, 1.0]],\n",
        "              [[1.0, 0.0, 0.0], [nan, nan, nan], [nan, nan, nan]]]) # Transition probability with shape (s,a, s) 3D\n",
        "\n",
        "R = np.array([[[20., 0.0, 0.0], [0.0, 0.0, 0.0], [-10., -10., 0.0]],\n",
        "              [[40., 30., 0.0], [nan, nan, nan], [0.0, 0.0, -10.]],\n",
        "              [[70., 0.0, 0.0], [nan, nan, nan], [nan, nan, nan]]]) # Immediate Reward - 3D"
      ]
    },
    {
      "cell_type": "code",
      "source": [
        "# An Example of how enumerate function works in Python\n",
        "# enumerate function in loops\n",
        "l1 = [\"eat\", \"sleep\", \"repeat\"]\n",
        "  \n",
        "# printing the tuples in object directly\n",
        "for ele in enumerate(l1):\n",
        "    print (ele)\n",
        "  \n",
        "# changing index and printing separately\n",
        "for count, ele in enumerate(l1, 100):\n",
        "    print (count, ele)\n",
        "  \n",
        "# getting desired output from tuple\n",
        "for count, ele in enumerate(l1):\n",
        "    print(count)\n",
        "    print(ele)"
      ],
      "metadata": {
        "colab": {
          "base_uri": "https://localhost:8080/"
        },
        "id": "UMrd5j8gij6a",
        "outputId": "0b1dd3e3-1a67-4a55-96f7-5733a14dc3a0"
      },
      "execution_count": 9,
      "outputs": [
        {
          "output_type": "stream",
          "name": "stdout",
          "text": [
            "(0, 'eat')\n",
            "(1, 'sleep')\n",
            "(2, 'repeat')\n",
            "100 eat\n",
            "101 sleep\n",
            "102 repeat\n",
            "0\n",
            "eat\n",
            "1\n",
            "sleep\n",
            "2\n",
            "repeat\n"
          ]
        }
      ]
    },
    {
      "cell_type": "code",
      "source": [
        "Q = np.full((3, 3), -np.inf)\n",
        "for s, a in enumerate(actions):\n",
        "  Q[s, a] = 0.0\n",
        "\n",
        "discount_factor = 0.99\n",
        "iterations = 10\n",
        "for i in range(iterations):\n",
        "  Q_previous = Q.copy()\n",
        "  for s in range(len(P)):\n",
        "    for a in actions[s]:\n",
        "      sum_v = 0\n",
        "      for s_next in range(len(P)):\n",
        "        sum_v += P[s, a, s_next] * (R[s, a, s_next] + discount_factor * np.max(Q_previous[s_next]))\n",
        "        Q[s, a] = sum_v\n",
        "\n",
        "print(Q)"
      ],
      "metadata": {
        "colab": {
          "base_uri": "https://localhost:8080/"
        },
        "id": "zTfXOBZNg0Yf",
        "outputId": "d2cfc6b4-12d1-456f-f397-8e5689275267"
      },
      "execution_count": 16,
      "outputs": [
        {
          "output_type": "stream",
          "name": "stdout",
          "text": [
            "[[191.23584998 189.01140277 172.34557047]\n",
            " [213.67973818         -inf 210.73584998]\n",
            " [241.23584998         -inf         -inf]]\n"
          ]
        }
      ]
    }
  ]
}