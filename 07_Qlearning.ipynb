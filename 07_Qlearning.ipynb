{
  "nbformat": 4,
  "nbformat_minor": 0,
  "metadata": {
    "colab": {
      "name": "07_Qlearning.ipynb",
      "provenance": [],
      "authorship_tag": "ABX9TyMh7tqqJGNZYnLl/qaieIg3",
      "include_colab_link": true
    },
    "kernelspec": {
      "name": "python3",
      "display_name": "Python 3"
    },
    "language_info": {
      "name": "python"
    }
  },
  "cells": [
    {
      "cell_type": "markdown",
      "metadata": {
        "id": "view-in-github",
        "colab_type": "text"
      },
      "source": [
        "<a href=\"https://colab.research.google.com/github/DavoodSZ1993/RL/blob/main/07_Qlearning.ipynb\" target=\"_parent\"><img src=\"https://colab.research.google.com/assets/colab-badge.svg\" alt=\"Open In Colab\"/></a>"
      ]
    },
    {
      "cell_type": "code",
      "execution_count": 2,
      "metadata": {
        "colab": {
          "base_uri": "https://localhost:8080/"
        },
        "id": "TISUiRZHE-OA",
        "outputId": "75770087-8848-4bf4-c6e1-ec7136c26bd6"
      },
      "outputs": [
        {
          "output_type": "execute_result",
          "data": {
            "text/plain": [
              "(Discrete(4), Discrete(16), 0)"
            ]
          },
          "metadata": {},
          "execution_count": 2
        }
      ],
      "source": [
        "import numpy as np\n",
        "import matplotlib.pyplot as plt\n",
        "import gym\n",
        "%matplotlib inline\n",
        "\n",
        "env = gym.make('FrozenLake-v0')\n",
        "\n",
        "env.action_space, env.observation_space, env.reset()"
      ]
    },
    {
      "cell_type": "code",
      "source": [
        "q = np.ones((16,4))\n",
        "\n",
        "nb_episodes = 500000\n",
        "STEPS = 5000\n",
        "alpha = 0.001\n",
        "gamma = 1.\n",
        "epsilon = 0.05\n",
        "\n",
        "q_performance = np.ndarray(nb_episodes//STEPS)"
      ],
      "metadata": {
        "id": "HM-aL77kFx8m"
      },
      "execution_count": 3,
      "outputs": []
    },
    {
      "cell_type": "markdown",
      "source": [
        "# Q-Learning:\n",
        "Q-learning is a value-based off-policy temporal difference (TD) reinforcement learning. \n",
        "\n",
        "* Off-policy means an agent follows a behaviour plocy for choosing the action to reach the next state $s_{t+1}$ from state $s_t$. From state $s_{t+1}$, it uses a policy $\\pi$ that is different from behaviour policy. In Q-learning, we take absolute greedy action as policy $π$ from the next state $s_{t+1}$ [1].\n",
        "\n",
        "$$\n",
        "Q(s,a) = r(s,a) + \\gamma . max_{a} Q(s\\prime,a)\n",
        "$$\n",
        "\n",
        "\n",
        "## References:\n",
        "[1]. [Q-Learning: A Value-based Reinforcement Learning Algorithm](https://medium.com/intro-to-artificial-intelligence/q-learning-a-value-based-reinforcement-learning-algorithm-272706d835cf)"
      ],
      "metadata": {
        "id": "gZZuspPvGWOH"
      }
    },
    {
      "cell_type": "code",
      "source": [
        "def action_epsilon_greedy(q, s, epsilon=0.05):\n",
        "  if np.random.rand() > epsilon:\n",
        "    return np.argmax(q[s])\n",
        "  return np.random.randint(4)\n",
        "\n",
        "def greedy_policy(q, s):\n",
        "  return np.argmax(q[s])\n",
        "\n",
        "def average_performance(policy_fct, q):\n",
        "  acc_returns = 0.\n",
        "  n = 500\n",
        "  \n",
        "  for i in range(n):\n",
        "    done = False\n",
        "    s = env.reset()\n",
        "    while not done:\n",
        "      a = policy_fct(q, s)\n",
        "      s, reward, done, _ = env.step(a)\n",
        "      acc_returns += reward\n",
        "\n",
        "  return acc_returns/n"
      ],
      "metadata": {
        "id": "tTLmwDUVJigh"
      },
      "execution_count": 6,
      "outputs": []
    },
    {
      "cell_type": "code",
      "source": [
        "# Q-learning: Off-policy TD control algorithm\n",
        "for i in range(nb_episodes):\n",
        "  done = False\n",
        "  s = env.reset()\n",
        "\n",
        "  while not done:\n",
        "    a = action_epsilon_greedy(q, s) # behaviour policy\n",
        "    new_s, reward, done, _ = env.step(a)\n",
        "    a_max = np.argmax(q[new_s])  # estimation policy\n",
        "    q[s, a] = q[s, a] + alpha *(reward + gamma * q[new_s, a_max] - q[s, a])\n",
        "    s = new_s\n",
        "\n",
        "\n",
        "  if i%STEPS ==0:\n",
        "    q_performance[i//STEPS] = average_performance(greedy_policy, q)"
      ],
      "metadata": {
        "id": "k3EUt_LMI4wX"
      },
      "execution_count": 7,
      "outputs": []
    },
    {
      "cell_type": "code",
      "source": [
        "plt.plot(STEPS * np.arange(nb_episodes//STEPS), q_performance)\n",
        "plt.xlabel(\"Epochs\")\n",
        "plt.ylabel(\"Average reward of an epoch\")\n",
        "plt.title(\"Learning progress for Q-learning\")"
      ],
      "metadata": {
        "colab": {
          "base_uri": "https://localhost:8080/",
          "height": 312
        },
        "id": "ynoY5PWFQYcv",
        "outputId": "cefa9f49-4aec-4845-a3a9-91724925981f"
      },
      "execution_count": 8,
      "outputs": [
        {
          "output_type": "execute_result",
          "data": {
            "text/plain": [
              "Text(0.5, 1.0, 'Learning progress for Q-learning')"
            ]
          },
          "metadata": {},
          "execution_count": 8
        },
        {
          "output_type": "display_data",
          "data": {
            "text/plain": [
              "<Figure size 432x288 with 1 Axes>"
            ],
            "image/png": "[encoded data removed]"
          },
          "metadata": {
            "needs_background": "light"
          }
        }
      ]
    },
    {
      "cell_type": "code",
      "source": [
        "average_performance(greedy_policy, q)"
      ],
      "metadata": {
        "colab": {
          "base_uri": "https://localhost:8080/"
        },
        "id": "Gq84umABQ_8V",
        "outputId": "566b6c28-0aae-4242-8ac2-6ab42e6dd717"
      },
      "execution_count": 10,
      "outputs": [
        {
          "output_type": "execute_result",
          "data": {
            "text/plain": [
              "0.692"
            ]
          },
          "metadata": {},
          "execution_count": 10
        }
      ]
    }
  ]
}