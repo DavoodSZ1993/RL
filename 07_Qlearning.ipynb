{
  "nbformat": 4,
  "nbformat_minor": 0,
  "metadata": {
    "colab": {
      "name": "07_Qlearning.ipynb",
      "provenance": [],
      "authorship_tag": "ABX9TyMIlUZopYs8Llbt5arossjl",
      "include_colab_link": true
    },
    "kernelspec": {
      "name": "python3",
      "display_name": "Python 3"
    },
    "language_info": {
      "name": "python"
    }
  },
  "cells": [
    {
      "cell_type": "markdown",
      "metadata": {
        "id": "view-in-github",
        "colab_type": "text"
      },
      "source": [
        "<a href=\"https://colab.research.google.com/github/DavoodSZ1993/RL/blob/main/07_Qlearning.ipynb\" target=\"_parent\"><img src=\"https://colab.research.google.com/assets/colab-badge.svg\" alt=\"Open In Colab\"/></a>"
      ]
    },
    {
      "cell_type": "code",
      "execution_count": 2,
      "metadata": {
        "colab": {
          "base_uri": "https://localhost:8080/"
        },
        "id": "TISUiRZHE-OA",
        "outputId": "75770087-8848-4bf4-c6e1-ec7136c26bd6"
      },
      "outputs": [
        {
          "output_type": "execute_result",
          "data": {
            "text/plain": [
              "(Discrete(4), Discrete(16), 0)"
            ]
          },
          "metadata": {},
          "execution_count": 2
        }
      ],
      "source": [
        "import numpy as np\n",
        "import matplotlib.pyplot as plt\n",
        "import gym\n",
        "%matplotlib inline\n",
        "\n",
        "env = gym.make('FrozenLake-v0')\n",
        "\n",
        "env.action_space, env.observation_space, env.reset()"
      ]
    },
    {
      "cell_type": "code",
      "source": [
        "q = np.ones((16,4))\n",
        "\n",
        "nb_episodes = 500000\n",
        "STEPS = 5000\n",
        "alpha = 0.001\n",
        "gamma = 1.\n",
        "epsilon = 0.05\n",
        "\n",
        "q_performance = np.ndarray(nb_episodes//STEPS)"
      ],
      "metadata": {
        "id": "HM-aL77kFx8m"
      },
      "execution_count": 3,
      "outputs": []
    },
    {
      "cell_type": "markdown",
      "source": [
        "# Q-Learning:\n"
      ],
      "metadata": {
        "id": "gZZuspPvGWOH"
      }
    }
  ]
}