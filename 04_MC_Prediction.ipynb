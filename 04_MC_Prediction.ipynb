{
  "nbformat": 4,
  "nbformat_minor": 0,
  "metadata": {
    "colab": {
      "name": "04_MC_Prediction.ipynb",
      "provenance": [],
      "authorship_tag": "ABX9TyPL2b0VnjiaFzO5UMkXITyh",
      "include_colab_link": true
    },
    "kernelspec": {
      "name": "python3",
      "display_name": "Python 3"
    },
    "language_info": {
      "name": "python"
    }
  },
  "cells": [
    {
      "cell_type": "markdown",
      "metadata": {
        "id": "view-in-github",
        "colab_type": "text"
      },
      "source": [
        "<a href=\"https://colab.research.google.com/github/DavoodSZ1993/RL/blob/main/04_MC_Prediction.ipynb\" target=\"_parent\"><img src=\"https://colab.research.google.com/assets/colab-badge.svg\" alt=\"Open In Colab\"/></a>"
      ]
    },
    {
      "cell_type": "code",
      "execution_count": 4,
      "metadata": {
        "colab": {
          "base_uri": "https://localhost:8080/"
        },
        "id": "dEwBuGms-Xuu",
        "outputId": "fe4cdb94-06b0-4995-8ea0-b580c2dc646b"
      },
      "outputs": [
        {
          "output_type": "execute_result",
          "data": {
            "text/plain": [
              "(Discrete(2), 1)"
            ]
          },
          "metadata": {},
          "execution_count": 4
        }
      ],
      "source": [
        "import numpy as np\n",
        "import gym\n",
        "\n",
        "env= gym.make('Blackjack-v0')\n",
        "env.action_space, env.action_space.sample()  # two actions: 0: stay, 1: hit"
      ]
    },
    {
      "cell_type": "markdown",
      "source": [
        "## How to Play Blackjack\n",
        "\n",
        "* Blackjack is a card game where the goal is to obtain cards that sum to as near as possible to 21 without going over.  They're playing against a fixed dealer.\n",
        "\n",
        "* Face cards (Jack, Queen, King) have point value 10.\n",
        "\n",
        "* Aces can either count as 11 or 1, and it's called 'usable' at 11.\n",
        "\n",
        "* This game is placed with an infinite deck (or with replacement).\n",
        "\n",
        "* he game starts with each (player and dealer) having one face up and one face down card. \n",
        "\n",
        "* The player can request additional cards (hit=1) until they decide to stop\n",
        " (stick=0) or exceed 21 (bust).\n",
        "\n",
        "* After the player sticks, the dealer reveals their facedown card, and draws until their sum is 17 or greater.  If the dealer goes bust the player wins.\n",
        "\n",
        "* If neither player nor dealer busts, the outcome (win, lose, draw) is\n",
        " decided by whose sum is closer to 21.  The reward for winning is +1,\n",
        "  drawing is 0, and losing is -1.\n",
        " \n",
        "* The observation of a 3-tuple of: the players current sum,\n",
        " the dealer's one showing card (1-10 where 1 is ace),\n",
        "  and whether or not the player holds a usable ace (0 or 1).\n",
        "  \n",
        "* This environment corresponds to the version of the blackjack problem\n",
        " described in Example 5.1 in Reinforcement Learning: An Introduction\n",
        " by Sutton and Barto (1998).\n"
      ],
      "metadata": {
        "id": "Iq-g4qZUDTFx"
      }
    },
    {
      "cell_type": "code",
      "source": [
        "\"\"\"\n",
        "Observation tuple for Blackjack:\n",
        "1. Sum of players cards (ace counts 11)\n",
        "2. sum of dealers card\n",
        "3. player has useable ace\n",
        "\"\"\"\n",
        "\n",
        "observation_space = env.observation_space.spaces\n",
        "observation_space"
      ],
      "metadata": {
        "colab": {
          "base_uri": "https://localhost:8080/"
        },
        "id": "l2ro8qg7BWyg",
        "outputId": "be1abdd6-27b9-4603-f136-9954948cb054"
      },
      "execution_count": 9,
      "outputs": [
        {
          "output_type": "execute_result",
          "data": {
            "text/plain": [
              "(Discrete(32), Discrete(11), Discrete(2))"
            ]
          },
          "metadata": {},
          "execution_count": 9
        }
      ]
    },
    {
      "cell_type": "code",
      "source": [
        "# Resests the state of the environment and returns an initial observation.\n",
        "\n",
        "observation = env.reset()\n",
        "observation"
      ],
      "metadata": {
        "colab": {
          "base_uri": "https://localhost:8080/"
        },
        "id": "H5UCOj9wCaDg",
        "outputId": "7c296acf-1908-4cfc-a9a6-1fdfe2fbbb46"
      },
      "execution_count": 13,
      "outputs": [
        {
          "output_type": "execute_result",
          "data": {
            "text/plain": [
              "(11, 6, False)"
            ]
          },
          "metadata": {},
          "execution_count": 13
        }
      ]
    },
    {
      "cell_type": "code",
      "source": [
        "action = 0\n",
        "observation, reward, done, info = env.step(action)\n",
        "observation, reward, done, info"
      ],
      "metadata": {
        "colab": {
          "base_uri": "https://localhost:8080/"
        },
        "id": "7ivom2sWC3EB",
        "outputId": "53e2f051-15ba-43fc-c0fe-84c81e832b62"
      },
      "execution_count": 14,
      "outputs": [
        {
          "output_type": "execute_result",
          "data": {
            "text/plain": [
              "((11, 6, False), 1.0, True, {})"
            ]
          },
          "metadata": {},
          "execution_count": 14
        }
      ]
    }
  ]
}